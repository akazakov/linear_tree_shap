{
 "cells": [
  {
   "cell_type": "code",
   "execution_count": 1,
   "id": "5cd6da33",
   "metadata": {},
   "outputs": [],
   "source": [
    "from benchmark import *\n",
    "import fasttreeshap"
   ]
  },
  {
   "cell_type": "code",
   "execution_count": 2,
   "id": "36a08d37",
   "metadata": {},
   "outputs": [],
   "source": [
    "name, train_x, train_y, test_x = load_adult()"
   ]
  },
  {
   "cell_type": "code",
   "execution_count": 3,
   "id": "21fae3e9",
   "metadata": {},
   "outputs": [],
   "source": [
    "depth = 2\n",
    "clf = DecisionTreeRegressor(max_depth=depth).fit(train_x, train_y)\n",
    "linear = TreeExplainer(clf)\n",
    "treeshap = Truth(clf)\n",
    "fast_v2 = fasttreeshap.TreeExplainer(clf, algorithm='v2', n_jobs=1)"
   ]
  },
  {
   "cell_type": "code",
   "execution_count": 4,
   "id": "949cecaa",
   "metadata": {},
   "outputs": [
    {
     "name": "stdout",
     "output_type": "stream",
     "text": [
      "20.2 ms ± 538 µs per loop (mean ± std. dev. of 7 runs, 10 loops each)\n"
     ]
    }
   ],
   "source": [
    "%timeit mine = linear.shap_values(test_x)"
   ]
  },
  {
   "cell_type": "code",
   "execution_count": 5,
   "id": "fab3a50c",
   "metadata": {},
   "outputs": [
    {
     "name": "stdout",
     "output_type": "stream",
     "text": [
      "23.5 ms ± 1.03 ms per loop (mean ± std. dev. of 7 runs, 10 loops each)\n"
     ]
    }
   ],
   "source": [
    "%timeit treeshap.shap_values(test_x, check_additivity=False)"
   ]
  },
  {
   "cell_type": "code",
   "execution_count": 6,
   "id": "52cf54a7",
   "metadata": {},
   "outputs": [
    {
     "name": "stdout",
     "output_type": "stream",
     "text": [
      "37.1 ms ± 649 µs per loop (mean ± std. dev. of 7 runs, 10 loops each)\n"
     ]
    }
   ],
   "source": [
    "%timeit fast_result = fast_v2.shap_values(test_x)"
   ]
  },
  {
   "cell_type": "code",
   "execution_count": 7,
   "id": "9faf1054",
   "metadata": {},
   "outputs": [],
   "source": [
    "depth = 4\n",
    "clf = DecisionTreeRegressor(max_depth=depth).fit(train_x, train_y)\n",
    "linear = TreeExplainer(clf)\n",
    "treeshap = Truth(clf)\n",
    "fast_v2 = fasttreeshap.TreeExplainer(clf, algorithm='v2', n_jobs=1)"
   ]
  },
  {
   "cell_type": "code",
   "execution_count": 8,
   "id": "c594c74a",
   "metadata": {},
   "outputs": [
    {
     "name": "stdout",
     "output_type": "stream",
     "text": [
      "34.3 ms ± 812 µs per loop (mean ± std. dev. of 7 runs, 10 loops each)\n"
     ]
    }
   ],
   "source": [
    "%timeit mine = linear.shap_values(test_x)"
   ]
  },
  {
   "cell_type": "code",
   "execution_count": 9,
   "id": "b0453e32",
   "metadata": {},
   "outputs": [
    {
     "name": "stdout",
     "output_type": "stream",
     "text": [
      "48.2 ms ± 1.18 ms per loop (mean ± std. dev. of 7 runs, 10 loops each)\n"
     ]
    }
   ],
   "source": [
    "%timeit treeshap.shap_values(test_x, check_additivity=False)"
   ]
  },
  {
   "cell_type": "code",
   "execution_count": 10,
   "id": "2c4d2f7b",
   "metadata": {},
   "outputs": [
    {
     "name": "stdout",
     "output_type": "stream",
     "text": [
      "49.4 ms ± 628 µs per loop (mean ± std. dev. of 7 runs, 10 loops each)\n"
     ]
    }
   ],
   "source": [
    "%timeit fast_result = fast_v2.shap_values(test_x)"
   ]
  },
  {
   "cell_type": "code",
   "execution_count": 11,
   "id": "a8cf9745",
   "metadata": {},
   "outputs": [],
   "source": [
    "depth = 6\n",
    "clf = DecisionTreeRegressor(max_depth=depth).fit(train_x, train_y)\n",
    "linear = TreeExplainer(clf)\n",
    "treeshap = Truth(clf)\n",
    "fast_v2 = fasttreeshap.TreeExplainer(clf, algorithm='v2', n_jobs=1)"
   ]
  },
  {
   "cell_type": "code",
   "execution_count": 12,
   "id": "9b1a0bb6",
   "metadata": {},
   "outputs": [
    {
     "name": "stdout",
     "output_type": "stream",
     "text": [
      "75.1 ms ± 556 µs per loop (mean ± std. dev. of 7 runs, 10 loops each)\n"
     ]
    }
   ],
   "source": [
    "%timeit mine = linear.shap_values(test_x)"
   ]
  },
  {
   "cell_type": "code",
   "execution_count": 13,
   "id": "91d35087",
   "metadata": {},
   "outputs": [
    {
     "name": "stdout",
     "output_type": "stream",
     "text": [
      "137 ms ± 3.71 ms per loop (mean ± std. dev. of 7 runs, 10 loops each)\n"
     ]
    }
   ],
   "source": [
    "%timeit treeshap.shap_values(test_x, check_additivity=False)"
   ]
  },
  {
   "cell_type": "code",
   "execution_count": 14,
   "id": "41e85164",
   "metadata": {},
   "outputs": [
    {
     "name": "stdout",
     "output_type": "stream",
     "text": [
      "84.7 ms ± 2.36 ms per loop (mean ± std. dev. of 7 runs, 10 loops each)\n"
     ]
    }
   ],
   "source": [
    "%timeit fast_result = fast_v2.shap_values(test_x)"
   ]
  },
  {
   "cell_type": "code",
   "execution_count": 15,
   "id": "17de712d",
   "metadata": {},
   "outputs": [],
   "source": [
    "depth = 8\n",
    "clf = DecisionTreeRegressor(max_depth=depth).fit(train_x, train_y)\n",
    "linear = TreeExplainer(clf)\n",
    "treeshap = Truth(clf)\n",
    "fast_v2 = fasttreeshap.TreeExplainer(clf, algorithm='v2', n_jobs=1)"
   ]
  },
  {
   "cell_type": "code",
   "execution_count": 16,
   "id": "56d0080f",
   "metadata": {},
   "outputs": [
    {
     "name": "stdout",
     "output_type": "stream",
     "text": [
      "183 ms ± 1.51 ms per loop (mean ± std. dev. of 7 runs, 10 loops each)\n"
     ]
    }
   ],
   "source": [
    "%timeit mine = linear.shap_values(test_x)"
   ]
  },
  {
   "cell_type": "code",
   "execution_count": 17,
   "id": "b7e58f44",
   "metadata": {},
   "outputs": [
    {
     "name": "stdout",
     "output_type": "stream",
     "text": [
      "412 ms ± 5.67 ms per loop (mean ± std. dev. of 7 runs, 1 loop each)\n"
     ]
    }
   ],
   "source": [
    "%timeit treeshap.shap_values(test_x, check_additivity=False)"
   ]
  },
  {
   "cell_type": "code",
   "execution_count": 18,
   "id": "84a8c61b",
   "metadata": {},
   "outputs": [
    {
     "name": "stdout",
     "output_type": "stream",
     "text": [
      "194 ms ± 2.25 ms per loop (mean ± std. dev. of 7 runs, 10 loops each)\n"
     ]
    }
   ],
   "source": [
    "%timeit fast_result = fast_v2.shap_values(test_x)"
   ]
  },
  {
   "cell_type": "code",
   "execution_count": 19,
   "id": "3f6a7d01",
   "metadata": {},
   "outputs": [],
   "source": [
    "depth = 12\n",
    "clf = DecisionTreeRegressor(max_depth=depth).fit(train_x, train_y)\n",
    "linear = TreeExplainer(clf)\n",
    "treeshap = Truth(clf)\n",
    "fast_v2 = fasttreeshap.TreeExplainer(clf, algorithm='v2', n_jobs=1)"
   ]
  },
  {
   "cell_type": "code",
   "execution_count": 20,
   "id": "b9b0ef43",
   "metadata": {},
   "outputs": [
    {
     "name": "stdout",
     "output_type": "stream",
     "text": [
      "999 ms ± 51.3 ms per loop (mean ± std. dev. of 7 runs, 1 loop each)\n"
     ]
    }
   ],
   "source": [
    "%timeit mine = linear.shap_values(test_x)"
   ]
  },
  {
   "cell_type": "code",
   "execution_count": 21,
   "id": "30bd2f04",
   "metadata": {},
   "outputs": [
    {
     "name": "stdout",
     "output_type": "stream",
     "text": [
      "3.1 s ± 44.6 ms per loop (mean ± std. dev. of 7 runs, 1 loop each)\n"
     ]
    }
   ],
   "source": [
    "%timeit treeshap.shap_values(test_x, check_additivity=False)"
   ]
  },
  {
   "cell_type": "code",
   "execution_count": 22,
   "id": "1adb4a96",
   "metadata": {},
   "outputs": [
    {
     "name": "stdout",
     "output_type": "stream",
     "text": [
      "1.06 s ± 26.1 ms per loop (mean ± std. dev. of 7 runs, 1 loop each)\n"
     ]
    }
   ],
   "source": [
    "%timeit fast_result = fast_v2.shap_values(test_x)"
   ]
  },
  {
   "cell_type": "code",
   "execution_count": null,
   "id": "7e57c13d",
   "metadata": {},
   "outputs": [],
   "source": []
  },
  {
   "cell_type": "code",
   "execution_count": null,
   "id": "c24937ca",
   "metadata": {},
   "outputs": [],
   "source": []
  },
  {
   "cell_type": "code",
   "execution_count": null,
   "id": "5a5a9fb3",
   "metadata": {},
   "outputs": [],
   "source": []
  },
  {
   "cell_type": "code",
   "execution_count": null,
   "id": "72e0b504",
   "metadata": {},
   "outputs": [],
   "source": []
  },
  {
   "cell_type": "code",
   "execution_count": null,
   "id": "924b3a52",
   "metadata": {},
   "outputs": [],
   "source": []
  },
  {
   "cell_type": "code",
   "execution_count": null,
   "id": "937be10c",
   "metadata": {},
   "outputs": [],
   "source": []
  }
 ],
 "metadata": {
  "kernelspec": {
   "display_name": "Python 3 (ipykernel)",
   "language": "python",
   "name": "python3"
  },
  "language_info": {
   "codemirror_mode": {
    "name": "ipython",
    "version": 3
   },
   "file_extension": ".py",
   "mimetype": "text/x-python",
   "name": "python",
   "nbconvert_exporter": "python",
   "pygments_lexer": "ipython3",
   "version": "3.9.7"
  }
 },
 "nbformat": 4,
 "nbformat_minor": 5
}
