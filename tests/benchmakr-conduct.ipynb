{
 "cells": [
  {
   "cell_type": "code",
   "execution_count": 1,
   "id": "6cc0f6f0",
   "metadata": {},
   "outputs": [],
   "source": [
    "from benchmark import *\n",
    "import fasttreeshap"
   ]
  },
  {
   "cell_type": "code",
   "execution_count": 2,
   "id": "28c2c4df",
   "metadata": {},
   "outputs": [],
   "source": [
    "name, train_x, train_y, test_x = load_conductor()"
   ]
  },
  {
   "cell_type": "code",
   "execution_count": 3,
   "id": "9f76bec5",
   "metadata": {},
   "outputs": [],
   "source": [
    "depth = 2\n",
    "clf = DecisionTreeRegressor(max_depth=depth).fit(train_x, train_y)\n",
    "linear = TreeExplainer(clf)\n",
    "treeshap = Truth(clf)\n",
    "fast_v2 = fasttreeshap.TreeExplainer(clf, algorithm='v2', n_jobs=1)"
   ]
  },
  {
   "cell_type": "code",
   "execution_count": 4,
   "id": "ad1adc03",
   "metadata": {},
   "outputs": [
    {
     "name": "stdout",
     "output_type": "stream",
     "text": [
      "13.9 ms ± 123 µs per loop (mean ± std. dev. of 7 runs, 100 loops each)\n"
     ]
    }
   ],
   "source": [
    "%timeit mine = linear.shap_values(test_x)"
   ]
  },
  {
   "cell_type": "code",
   "execution_count": 5,
   "id": "b2ae8043",
   "metadata": {},
   "outputs": [
    {
     "name": "stdout",
     "output_type": "stream",
     "text": [
      "18.6 ms ± 160 µs per loop (mean ± std. dev. of 7 runs, 100 loops each)\n"
     ]
    }
   ],
   "source": [
    "%timeit treeshap.shap_values(test_x, check_additivity=False)"
   ]
  },
  {
   "cell_type": "code",
   "execution_count": 6,
   "id": "2c6bdfa3",
   "metadata": {},
   "outputs": [
    {
     "name": "stdout",
     "output_type": "stream",
     "text": [
      "31.9 ms ± 696 µs per loop (mean ± std. dev. of 7 runs, 10 loops each)\n"
     ]
    }
   ],
   "source": [
    "%timeit fast_result = fast_v2.shap_values(test_x)"
   ]
  },
  {
   "cell_type": "code",
   "execution_count": 7,
   "id": "a55d18a1",
   "metadata": {},
   "outputs": [],
   "source": [
    "depth = 4\n",
    "clf = DecisionTreeRegressor(max_depth=depth).fit(train_x, train_y)\n",
    "linear = TreeExplainer(clf)\n",
    "treeshap = Truth(clf)\n",
    "fast_v2 = fasttreeshap.TreeExplainer(clf, algorithm='v2', n_jobs=1)"
   ]
  },
  {
   "cell_type": "code",
   "execution_count": 8,
   "id": "c0943e16",
   "metadata": {},
   "outputs": [
    {
     "name": "stdout",
     "output_type": "stream",
     "text": [
      "23.3 ms ± 882 µs per loop (mean ± std. dev. of 7 runs, 10 loops each)\n"
     ]
    }
   ],
   "source": [
    "%timeit mine = linear.shap_values(test_x)"
   ]
  },
  {
   "cell_type": "code",
   "execution_count": 9,
   "id": "eeb01d63",
   "metadata": {},
   "outputs": [
    {
     "name": "stdout",
     "output_type": "stream",
     "text": [
      "35 ms ± 1.17 ms per loop (mean ± std. dev. of 7 runs, 10 loops each)\n"
     ]
    }
   ],
   "source": [
    "%timeit treeshap.shap_values(test_x, check_additivity=False)"
   ]
  },
  {
   "cell_type": "code",
   "execution_count": 10,
   "id": "7da1ce9a",
   "metadata": {},
   "outputs": [
    {
     "name": "stdout",
     "output_type": "stream",
     "text": [
      "39.8 ms ± 492 µs per loop (mean ± std. dev. of 7 runs, 10 loops each)\n"
     ]
    }
   ],
   "source": [
    "%timeit fast_result = fast_v2.shap_values(test_x)"
   ]
  },
  {
   "cell_type": "code",
   "execution_count": 11,
   "id": "7ebb48d4",
   "metadata": {},
   "outputs": [],
   "source": [
    "depth = 6\n",
    "clf = DecisionTreeRegressor(max_depth=depth).fit(train_x, train_y)\n",
    "linear = TreeExplainer(clf)\n",
    "treeshap = Truth(clf)\n",
    "fast_v2 = fasttreeshap.TreeExplainer(clf, algorithm='v2', n_jobs=1)"
   ]
  },
  {
   "cell_type": "code",
   "execution_count": 12,
   "id": "e1b58af7",
   "metadata": {},
   "outputs": [
    {
     "name": "stdout",
     "output_type": "stream",
     "text": [
      "59 ms ± 585 µs per loop (mean ± std. dev. of 7 runs, 10 loops each)\n"
     ]
    }
   ],
   "source": [
    "%timeit mine = linear.shap_values(test_x)"
   ]
  },
  {
   "cell_type": "code",
   "execution_count": 13,
   "id": "c16a7b87",
   "metadata": {},
   "outputs": [
    {
     "name": "stdout",
     "output_type": "stream",
     "text": [
      "117 ms ± 1.51 ms per loop (mean ± std. dev. of 7 runs, 10 loops each)\n"
     ]
    }
   ],
   "source": [
    "%timeit treeshap.shap_values(test_x, check_additivity=False)"
   ]
  },
  {
   "cell_type": "code",
   "execution_count": 14,
   "id": "746bceae",
   "metadata": {},
   "outputs": [
    {
     "name": "stdout",
     "output_type": "stream",
     "text": [
      "73.4 ms ± 1.1 ms per loop (mean ± std. dev. of 7 runs, 10 loops each)\n"
     ]
    }
   ],
   "source": [
    "%timeit fast_result = fast_v2.shap_values(test_x)"
   ]
  },
  {
   "cell_type": "code",
   "execution_count": 15,
   "id": "5f3f120e",
   "metadata": {},
   "outputs": [],
   "source": [
    "depth = 8\n",
    "clf = DecisionTreeRegressor(max_depth=depth).fit(train_x, train_y)\n",
    "linear = TreeExplainer(clf)\n",
    "treeshap = Truth(clf)\n",
    "fast_v2 = fasttreeshap.TreeExplainer(clf, algorithm='v2', n_jobs=1)"
   ]
  },
  {
   "cell_type": "code",
   "execution_count": 16,
   "id": "92fff635",
   "metadata": {},
   "outputs": [
    {
     "name": "stdout",
     "output_type": "stream",
     "text": [
      "177 ms ± 17.3 ms per loop (mean ± std. dev. of 7 runs, 10 loops each)\n"
     ]
    }
   ],
   "source": [
    "%timeit mine = linear.shap_values(test_x)"
   ]
  },
  {
   "cell_type": "code",
   "execution_count": 17,
   "id": "d02f062e",
   "metadata": {},
   "outputs": [
    {
     "name": "stdout",
     "output_type": "stream",
     "text": [
      "534 ms ± 14.4 ms per loop (mean ± std. dev. of 7 runs, 1 loop each)\n"
     ]
    }
   ],
   "source": [
    "%timeit treeshap.shap_values(test_x, check_additivity=False)"
   ]
  },
  {
   "cell_type": "code",
   "execution_count": 18,
   "id": "fc8663b2",
   "metadata": {},
   "outputs": [
    {
     "name": "stdout",
     "output_type": "stream",
     "text": [
      "201 ms ± 1.48 ms per loop (mean ± std. dev. of 7 runs, 1 loop each)\n"
     ]
    }
   ],
   "source": [
    "%timeit fast_result = fast_v2.shap_values(test_x)"
   ]
  },
  {
   "cell_type": "code",
   "execution_count": 19,
   "id": "05c5bc5f",
   "metadata": {},
   "outputs": [],
   "source": [
    "depth = 12\n",
    "clf = DecisionTreeRegressor(max_depth=depth).fit(train_x, train_y)\n",
    "linear = TreeExplainer(clf)\n",
    "treeshap = Truth(clf)\n",
    "fast_v2 = fasttreeshap.TreeExplainer(clf, algorithm='v2', n_jobs=1)"
   ]
  },
  {
   "cell_type": "code",
   "execution_count": 20,
   "id": "26decf4c",
   "metadata": {},
   "outputs": [
    {
     "name": "stdout",
     "output_type": "stream",
     "text": [
      "1.49 s ± 4.11 ms per loop (mean ± std. dev. of 7 runs, 1 loop each)\n"
     ]
    }
   ],
   "source": [
    "%timeit mine = linear.shap_values(test_x)"
   ]
  },
  {
   "cell_type": "code",
   "execution_count": 21,
   "id": "b935752f",
   "metadata": {},
   "outputs": [
    {
     "name": "stdout",
     "output_type": "stream",
     "text": [
      "6.4 s ± 79.3 ms per loop (mean ± std. dev. of 7 runs, 1 loop each)\n"
     ]
    }
   ],
   "source": [
    "%timeit treeshap.shap_values(test_x, check_additivity=False)"
   ]
  },
  {
   "cell_type": "code",
   "execution_count": 22,
   "id": "c103ab53",
   "metadata": {},
   "outputs": [
    {
     "name": "stdout",
     "output_type": "stream",
     "text": [
      "2.27 s ± 31 ms per loop (mean ± std. dev. of 7 runs, 1 loop each)\n"
     ]
    }
   ],
   "source": [
    "%timeit fast_result = fast_v2.shap_values(test_x)"
   ]
  },
  {
   "cell_type": "code",
   "execution_count": null,
   "id": "ccdeac4f",
   "metadata": {},
   "outputs": [],
   "source": []
  },
  {
   "cell_type": "code",
   "execution_count": null,
   "id": "93125395",
   "metadata": {},
   "outputs": [],
   "source": []
  }
 ],
 "metadata": {
  "kernelspec": {
   "display_name": "Python 3 (ipykernel)",
   "language": "python",
   "name": "python3"
  },
  "language_info": {
   "codemirror_mode": {
    "name": "ipython",
    "version": 3
   },
   "file_extension": ".py",
   "mimetype": "text/x-python",
   "name": "python",
   "nbconvert_exporter": "python",
   "pygments_lexer": "ipython3",
   "version": "3.9.7"
  }
 },
 "nbformat": 4,
 "nbformat_minor": 5
}
